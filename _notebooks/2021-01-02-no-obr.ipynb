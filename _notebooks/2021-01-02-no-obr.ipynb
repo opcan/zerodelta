{
 "cells": [
  {
   "cell_type": "markdown",
   "metadata": {},
   "source": [
    "# \"No image\"\n",
    "> \"Půjde to v tom Jupyteru ?\"\n",
    "\n",
    "- toc: false\n",
    "- branch: master\n",
    "- badges: false\n",
    "- comments: false\n",
    "- categories: [fastpages, jupyter]\n",
    "- image: images/diagram.png\n",
    "- hide: false\n",
    "- search_exclude: true\n",
    "- metadata_key1: metadata_value1\n",
    "- metadata_key2: metadata_value2\n",
    "- show_tags: true"
   ]
  },
  {
   "cell_type": "markdown",
   "metadata": {},
   "source": [
    "# Tohle je první pokus jak blogovat s jupyterem\n",
    "Ahoj, jmenuji se Luděk Skyva a jsem zakladatel hedgového fondu Quantical. Portfolio manager je Jiří Javorník. Přejte nám hodně štěstí a úspěchů.\n",
    "\n",
    "## Tohle je první pokus jak blogovat s jupyterem\n",
    "Ahoj, jmenuji se Luděk Skyva a jsem __zakladatel hedgového fondu Quantical. Portfolio manager je Jiří Javorník. Přejte nám hodně štěstí a úspěchů.__\n",
    "\n",
    "Mezera\n",
    "\n",
    "\n",
    "Mezere\n",
    "ale ne....\n",
    "\n"
   ]
  },
  {
   "cell_type": "markdown",
   "metadata": {},
   "source": [
    "### Video 1 blah, blah\n",
    "\n",
    "> youtube: https://youtu.be/S-akOpICpU8"
   ]
  },
  {
   "cell_type": "markdown",
   "metadata": {},
   "source": [
    "### Image"
   ]
  }
 ],
 "metadata": {
  "kernelspec": {
   "display_name": "Python 3",
   "language": "python",
   "name": "python3"
  },
  "language_info": {
   "codemirror_mode": {
    "name": "ipython",
    "version": 3
   },
   "file_extension": ".py",
   "mimetype": "text/x-python",
   "name": "python",
   "nbconvert_exporter": "python",
   "pygments_lexer": "ipython3",
   "version": "3.7.0"
  }
 },
 "nbformat": 4,
 "nbformat_minor": 2
}
