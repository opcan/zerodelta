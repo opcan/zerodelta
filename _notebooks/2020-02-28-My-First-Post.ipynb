{
 "cells": [
  {
   "cell_type": "markdown",
   "metadata": {},
   "source": [
    "# \"Title jak blogovat 1\"\n",
    "> \"Půjde to v tom Jupyteru nebo ne?\"\n",
    "\n",
    "- toc: false\n",
    "- branch: master\n",
    "- badges: false\n",
    "- comments: false\n",
    "- categories: [fastpages, jupyter]\n",
    "- image: images/diagram.png\n",
    "- hide: false\n",
    "- search_exclude: true\n",
    "- metadata_key1: metadata_value1\n",
    "- metadata_key2: metadata_value2\n",
    "- show_tags: true"
   ]
  },
  {
   "cell_type": "markdown",
   "metadata": {},
   "source": [
    "## Tohle je první pokus jak blogovat s jupyterem\n",
    "Ahoj, jmenuji se Luděk Skyva a jsem zakladatel hedgového fondu Quantical. Portfolio manager je Jiří Javorník. Přejte nám hodně štěstí a úspěchů.\n",
    "\n",
    "### Tohle je první pokus jak blogovat s jupyterem\n",
    "Ahoj, jmenuji se Luděk Skyva a jsem __zakladatel hedgového fondu Quantical. Portfolio manager je Jiří Javorník. Přejte nám hodně štěstí a úspěchů.__\n",
    "\n",
    "Mezera\n",
    "\n",
    "\n",
    "Mezere\n",
    "ale ne...."
   ]
  },
  {
   "cell_type": "markdown",
   "metadata": {},
   "source": [
    "Embedded Twitter and YouTube Content\n",
    "In a markdown cell in your notebook, use the following markdown shortcuts to embed Twitter cards and YouTube Videos.\n",
    "\n",
    "> youtube: https://youtu.be/https://www.youtube.com/watch?v=NHqv3IrwtbY\n",
    "> twitter: https://twitter.com/some-link"
   ]
  },
  {
   "cell_type": "code",
   "execution_count": null,
   "metadata": {},
   "outputs": [],
   "source": [
    "Embedded Twitter and YouTube Content\n",
    "In a markdown cell in your notebook, use the following markdown shortcuts to embed Twitter cards and YouTube Videos.\n",
    "\n",
    "> youtube: https://youtu.be/NHqv3IrwtbY\n",
    "> twitter: https://twitter.com/some-link"
   ]
  }
 ],
 "metadata": {
  "kernelspec": {
   "display_name": "Python 3",
   "language": "python",
   "name": "python3"
  }
 },
 "nbformat": 4,
 "nbformat_minor": 2
}
